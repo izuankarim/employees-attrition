{
 "cells": [
  {
   "cell_type": "code",
   "execution_count": 1,
   "id": "1c2b654d",
   "metadata": {},
   "outputs": [],
   "source": [
    "#Conduct some simple data exploration and data analysis"
   ]
  },
  {
   "cell_type": "code",
   "execution_count": 1,
   "id": "e9950c40",
   "metadata": {},
   "outputs": [],
   "source": [
    "#import library dulu\n",
    "\n",
    "import numpy as np\n",
    "import pandas as pd\n",
    "import matplotlib.pyplot as plt"
   ]
  },
  {
   "cell_type": "code",
   "execution_count": 2,
   "id": "89795b38",
   "metadata": {},
   "outputs": [],
   "source": [
    "#baca dataset pakai pandas\n",
    "\n",
    "ds = pd.read_csv (r'D:\\EDA\\Employees Attrition Data.csv')"
   ]
  },
  {
   "cell_type": "code",
   "execution_count": 3,
   "id": "26cecb43",
   "metadata": {
    "scrolled": true
   },
   "outputs": [
    {
     "data": {
      "text/html": [
       "<div>\n",
       "<style scoped>\n",
       "    .dataframe tbody tr th:only-of-type {\n",
       "        vertical-align: middle;\n",
       "    }\n",
       "\n",
       "    .dataframe tbody tr th {\n",
       "        vertical-align: top;\n",
       "    }\n",
       "\n",
       "    .dataframe thead th {\n",
       "        text-align: right;\n",
       "    }\n",
       "</style>\n",
       "<table border=\"1\" class=\"dataframe\">\n",
       "  <thead>\n",
       "    <tr style=\"text-align: right;\">\n",
       "      <th></th>\n",
       "      <th>Age</th>\n",
       "      <th>BusinessTravel</th>\n",
       "      <th>MonthlyIncome</th>\n",
       "      <th>JobSatisfaction</th>\n",
       "      <th>Bonus</th>\n",
       "      <th>Department</th>\n",
       "      <th>DistanceFromHome</th>\n",
       "      <th>Education</th>\n",
       "      <th>EducationField</th>\n",
       "      <th>EmployeeCount</th>\n",
       "      <th>...</th>\n",
       "      <th>JobRole</th>\n",
       "      <th>MaritalStatus</th>\n",
       "      <th>PerformanceRating</th>\n",
       "      <th>StockOptionLevel</th>\n",
       "      <th>TrainingTimesLastYear</th>\n",
       "      <th>WorkLifeBalance</th>\n",
       "      <th>YearsAtCompany</th>\n",
       "      <th>YearsSinceLastPromotion</th>\n",
       "      <th>OverTime</th>\n",
       "      <th>Attrition</th>\n",
       "    </tr>\n",
       "  </thead>\n",
       "  <tbody>\n",
       "    <tr>\n",
       "      <th>0</th>\n",
       "      <td>41</td>\n",
       "      <td>Travel_Rarely</td>\n",
       "      <td>5993</td>\n",
       "      <td>4</td>\n",
       "      <td>17979</td>\n",
       "      <td>Sales</td>\n",
       "      <td>1</td>\n",
       "      <td>2</td>\n",
       "      <td>Life Sciences</td>\n",
       "      <td>1</td>\n",
       "      <td>...</td>\n",
       "      <td>Sales Executive</td>\n",
       "      <td>Single</td>\n",
       "      <td>3</td>\n",
       "      <td>0</td>\n",
       "      <td>0</td>\n",
       "      <td>1</td>\n",
       "      <td>6</td>\n",
       "      <td>0</td>\n",
       "      <td>Yes</td>\n",
       "      <td>Yes</td>\n",
       "    </tr>\n",
       "    <tr>\n",
       "      <th>1</th>\n",
       "      <td>49</td>\n",
       "      <td>Travel_Frequently</td>\n",
       "      <td>5130</td>\n",
       "      <td>2</td>\n",
       "      <td>20520</td>\n",
       "      <td>Research &amp; Development</td>\n",
       "      <td>8</td>\n",
       "      <td>1</td>\n",
       "      <td>Life Sciences</td>\n",
       "      <td>1</td>\n",
       "      <td>...</td>\n",
       "      <td>Research Scientist</td>\n",
       "      <td>Married</td>\n",
       "      <td>4</td>\n",
       "      <td>1</td>\n",
       "      <td>3</td>\n",
       "      <td>3</td>\n",
       "      <td>10</td>\n",
       "      <td>1</td>\n",
       "      <td>No</td>\n",
       "      <td>No</td>\n",
       "    </tr>\n",
       "    <tr>\n",
       "      <th>2</th>\n",
       "      <td>37</td>\n",
       "      <td>Travel_Rarely</td>\n",
       "      <td>2090</td>\n",
       "      <td>3</td>\n",
       "      <td>6270</td>\n",
       "      <td>Research &amp; Development</td>\n",
       "      <td>2</td>\n",
       "      <td>2</td>\n",
       "      <td>Other</td>\n",
       "      <td>1</td>\n",
       "      <td>...</td>\n",
       "      <td>Laboratory Technician</td>\n",
       "      <td>Single</td>\n",
       "      <td>3</td>\n",
       "      <td>0</td>\n",
       "      <td>3</td>\n",
       "      <td>3</td>\n",
       "      <td>0</td>\n",
       "      <td>0</td>\n",
       "      <td>Yes</td>\n",
       "      <td>Yes</td>\n",
       "    </tr>\n",
       "    <tr>\n",
       "      <th>3</th>\n",
       "      <td>33</td>\n",
       "      <td>Travel_Frequently</td>\n",
       "      <td>2909</td>\n",
       "      <td>3</td>\n",
       "      <td>8727</td>\n",
       "      <td>Research &amp; Development</td>\n",
       "      <td>3</td>\n",
       "      <td>4</td>\n",
       "      <td>Life Sciences</td>\n",
       "      <td>1</td>\n",
       "      <td>...</td>\n",
       "      <td>Research Scientist</td>\n",
       "      <td>Married</td>\n",
       "      <td>3</td>\n",
       "      <td>0</td>\n",
       "      <td>3</td>\n",
       "      <td>3</td>\n",
       "      <td>8</td>\n",
       "      <td>3</td>\n",
       "      <td>Yes</td>\n",
       "      <td>No</td>\n",
       "    </tr>\n",
       "    <tr>\n",
       "      <th>4</th>\n",
       "      <td>27</td>\n",
       "      <td>Travel_Rarely</td>\n",
       "      <td>3468</td>\n",
       "      <td>2</td>\n",
       "      <td>10404</td>\n",
       "      <td>Research &amp; Development</td>\n",
       "      <td>2</td>\n",
       "      <td>1</td>\n",
       "      <td>Medical</td>\n",
       "      <td>1</td>\n",
       "      <td>...</td>\n",
       "      <td>Laboratory Technician</td>\n",
       "      <td>Married</td>\n",
       "      <td>3</td>\n",
       "      <td>1</td>\n",
       "      <td>3</td>\n",
       "      <td>3</td>\n",
       "      <td>2</td>\n",
       "      <td>2</td>\n",
       "      <td>No</td>\n",
       "      <td>No</td>\n",
       "    </tr>\n",
       "  </tbody>\n",
       "</table>\n",
       "<p>5 rows × 24 columns</p>\n",
       "</div>"
      ],
      "text/plain": [
       "   Age     BusinessTravel  MonthlyIncome  JobSatisfaction  Bonus  \\\n",
       "0   41      Travel_Rarely           5993                4  17979   \n",
       "1   49  Travel_Frequently           5130                2  20520   \n",
       "2   37      Travel_Rarely           2090                3   6270   \n",
       "3   33  Travel_Frequently           2909                3   8727   \n",
       "4   27      Travel_Rarely           3468                2  10404   \n",
       "\n",
       "               Department  DistanceFromHome  Education EducationField  \\\n",
       "0                   Sales                 1          2  Life Sciences   \n",
       "1  Research & Development                 8          1  Life Sciences   \n",
       "2  Research & Development                 2          2          Other   \n",
       "3  Research & Development                 3          4  Life Sciences   \n",
       "4  Research & Development                 2          1        Medical   \n",
       "\n",
       "   EmployeeCount  ...                JobRole  MaritalStatus PerformanceRating  \\\n",
       "0              1  ...        Sales Executive         Single                 3   \n",
       "1              1  ...     Research Scientist        Married                 4   \n",
       "2              1  ...  Laboratory Technician         Single                 3   \n",
       "3              1  ...     Research Scientist        Married                 3   \n",
       "4              1  ...  Laboratory Technician        Married                 3   \n",
       "\n",
       "   StockOptionLevel TrainingTimesLastYear WorkLifeBalance  YearsAtCompany  \\\n",
       "0                 0                     0               1               6   \n",
       "1                 1                     3               3              10   \n",
       "2                 0                     3               3               0   \n",
       "3                 0                     3               3               8   \n",
       "4                 1                     3               3               2   \n",
       "\n",
       "   YearsSinceLastPromotion  OverTime  Attrition  \n",
       "0                        0       Yes        Yes  \n",
       "1                        1        No         No  \n",
       "2                        0       Yes        Yes  \n",
       "3                        3       Yes         No  \n",
       "4                        2        No         No  \n",
       "\n",
       "[5 rows x 24 columns]"
      ]
     },
     "execution_count": 3,
     "metadata": {},
     "output_type": "execute_result"
    }
   ],
   "source": [
    "#tengok attribute pakai head\n",
    "\n",
    "ds.head()"
   ]
  },
  {
   "cell_type": "code",
   "execution_count": null,
   "id": "3e62de32",
   "metadata": {},
   "outputs": [],
   "source": [
    "#check attributes in the dataset?"
   ]
  },
  {
   "cell_type": "code",
   "execution_count": 4,
   "id": "ad9c56f3",
   "metadata": {},
   "outputs": [
    {
     "data": {
      "text/plain": [
       "(1470, 24)"
      ]
     },
     "execution_count": 4,
     "metadata": {},
     "output_type": "execute_result"
    }
   ],
   "source": [
    "ds.shape"
   ]
  },
  {
   "cell_type": "code",
   "execution_count": null,
   "id": "693d3f93",
   "metadata": {},
   "outputs": [],
   "source": [
    "# A: 24"
   ]
  },
  {
   "cell_type": "code",
   "execution_count": null,
   "id": "fa2fff6f",
   "metadata": {},
   "outputs": [],
   "source": [
    "#dimension of this dataset?"
   ]
  },
  {
   "cell_type": "code",
   "execution_count": 15,
   "id": "29af2389",
   "metadata": {},
   "outputs": [
    {
     "data": {
      "text/plain": [
       "2"
      ]
     },
     "execution_count": 15,
     "metadata": {},
     "output_type": "execute_result"
    }
   ],
   "source": [
    "ds.ndim"
   ]
  },
  {
   "cell_type": "code",
   "execution_count": null,
   "id": "842056a7",
   "metadata": {},
   "outputs": [],
   "source": [
    "# A: 2"
   ]
  },
  {
   "cell_type": "code",
   "execution_count": 5,
   "id": "92f58f6a",
   "metadata": {},
   "outputs": [],
   "source": [
    "#average of these attributes: ‘Age’, ‘Monthly Income’ and ‘Years At Company’. \n",
    "#round to 2 decimal places"
   ]
  },
  {
   "cell_type": "code",
   "execution_count": 6,
   "id": "54cb61d3",
   "metadata": {},
   "outputs": [
    {
     "name": "stdout",
     "output_type": "stream",
     "text": [
      "<class 'pandas.core.frame.DataFrame'>\n",
      "RangeIndex: 1470 entries, 0 to 1469\n",
      "Data columns (total 24 columns):\n",
      " #   Column                   Non-Null Count  Dtype \n",
      "---  ------                   --------------  ----- \n",
      " 0   Age                      1470 non-null   int64 \n",
      " 1   BusinessTravel           1470 non-null   object\n",
      " 2   MonthlyIncome            1470 non-null   int64 \n",
      " 3   JobSatisfaction          1470 non-null   int64 \n",
      " 4   Bonus                    1470 non-null   int64 \n",
      " 5   Department               1470 non-null   object\n",
      " 6   DistanceFromHome         1470 non-null   int64 \n",
      " 7   Education                1470 non-null   int64 \n",
      " 8   EducationField           1470 non-null   object\n",
      " 9   EmployeeCount            1470 non-null   int64 \n",
      " 10  EmployeeNumber           1470 non-null   int64 \n",
      " 11  EnvironmentSatisfaction  1470 non-null   int64 \n",
      " 12  Gender                   1470 non-null   object\n",
      " 13  JobLevel                 1470 non-null   int64 \n",
      " 14  JobRole                  1470 non-null   object\n",
      " 15  MaritalStatus            1470 non-null   object\n",
      " 16  PerformanceRating        1470 non-null   int64 \n",
      " 17  StockOptionLevel         1470 non-null   int64 \n",
      " 18  TrainingTimesLastYear    1470 non-null   int64 \n",
      " 19  WorkLifeBalance          1470 non-null   int64 \n",
      " 20  YearsAtCompany           1470 non-null   int64 \n",
      " 21  YearsSinceLastPromotion  1470 non-null   int64 \n",
      " 22  OverTime                 1470 non-null   object\n",
      " 23  Attrition                1470 non-null   object\n",
      "dtypes: int64(16), object(8)\n",
      "memory usage: 275.8+ KB\n"
     ]
    }
   ],
   "source": [
    "ds.info()"
   ]
  },
  {
   "cell_type": "code",
   "execution_count": 7,
   "id": "eccbaba9",
   "metadata": {},
   "outputs": [
    {
     "name": "stdout",
     "output_type": "stream",
     "text": [
      "Age avg:  36.92\n",
      "Monthly Income avg:  6502.93\n",
      "YearsAtCompany avg:  7.01\n"
     ]
    }
   ],
   "source": [
    "#tengok kt index 0, 2, 20\n",
    "\n",
    "Age_avg = np.average (ds['Age'])\n",
    "MonthlyIncome_avg = np.average (ds['MonthlyIncome'])\n",
    "YearsAtCompany_avg = np.average (ds['YearsAtCompany'])\n",
    "\n",
    "print ('Age avg: ', round (Age_avg, 2))\n",
    "print ('Monthly Income avg: ', round (MonthlyIncome_avg, 2))\n",
    "print ('YearsAtCompany avg: ', round (YearsAtCompany_avg, 2))"
   ]
  },
  {
   "cell_type": "code",
   "execution_count": 8,
   "id": "2ae74358",
   "metadata": {
    "scrolled": true
   },
   "outputs": [],
   "source": [
    "#minimum and maximum ‘Monthly Income’"
   ]
  },
  {
   "cell_type": "code",
   "execution_count": 9,
   "id": "b155e5b2",
   "metadata": {
    "scrolled": true
   },
   "outputs": [
    {
     "data": {
      "text/html": [
       "<div>\n",
       "<style scoped>\n",
       "    .dataframe tbody tr th:only-of-type {\n",
       "        vertical-align: middle;\n",
       "    }\n",
       "\n",
       "    .dataframe tbody tr th {\n",
       "        vertical-align: top;\n",
       "    }\n",
       "\n",
       "    .dataframe thead th {\n",
       "        text-align: right;\n",
       "    }\n",
       "</style>\n",
       "<table border=\"1\" class=\"dataframe\">\n",
       "  <thead>\n",
       "    <tr style=\"text-align: right;\">\n",
       "      <th></th>\n",
       "      <th>Age</th>\n",
       "      <th>MonthlyIncome</th>\n",
       "      <th>JobSatisfaction</th>\n",
       "      <th>Bonus</th>\n",
       "      <th>DistanceFromHome</th>\n",
       "      <th>Education</th>\n",
       "      <th>EmployeeCount</th>\n",
       "      <th>EmployeeNumber</th>\n",
       "      <th>EnvironmentSatisfaction</th>\n",
       "      <th>JobLevel</th>\n",
       "      <th>PerformanceRating</th>\n",
       "      <th>StockOptionLevel</th>\n",
       "      <th>TrainingTimesLastYear</th>\n",
       "      <th>WorkLifeBalance</th>\n",
       "      <th>YearsAtCompany</th>\n",
       "      <th>YearsSinceLastPromotion</th>\n",
       "    </tr>\n",
       "  </thead>\n",
       "  <tbody>\n",
       "    <tr>\n",
       "      <th>count</th>\n",
       "      <td>1470.000000</td>\n",
       "      <td>1470.000000</td>\n",
       "      <td>1470.000000</td>\n",
       "      <td>1470.000000</td>\n",
       "      <td>1470.000000</td>\n",
       "      <td>1470.000000</td>\n",
       "      <td>1470.0</td>\n",
       "      <td>1470.000000</td>\n",
       "      <td>1470.000000</td>\n",
       "      <td>1470.000000</td>\n",
       "      <td>1470.000000</td>\n",
       "      <td>1470.000000</td>\n",
       "      <td>1470.000000</td>\n",
       "      <td>1470.000000</td>\n",
       "      <td>1470.000000</td>\n",
       "      <td>1470.000000</td>\n",
       "    </tr>\n",
       "    <tr>\n",
       "      <th>mean</th>\n",
       "      <td>36.923810</td>\n",
       "      <td>6502.931293</td>\n",
       "      <td>2.728571</td>\n",
       "      <td>20479.501361</td>\n",
       "      <td>9.192517</td>\n",
       "      <td>2.912925</td>\n",
       "      <td>1.0</td>\n",
       "      <td>1024.865306</td>\n",
       "      <td>2.721769</td>\n",
       "      <td>2.063946</td>\n",
       "      <td>3.153741</td>\n",
       "      <td>0.793878</td>\n",
       "      <td>2.799320</td>\n",
       "      <td>2.761224</td>\n",
       "      <td>7.008163</td>\n",
       "      <td>2.187755</td>\n",
       "    </tr>\n",
       "    <tr>\n",
       "      <th>std</th>\n",
       "      <td>9.135373</td>\n",
       "      <td>4707.956783</td>\n",
       "      <td>1.102846</td>\n",
       "      <td>15066.272964</td>\n",
       "      <td>8.106864</td>\n",
       "      <td>1.024165</td>\n",
       "      <td>0.0</td>\n",
       "      <td>602.024335</td>\n",
       "      <td>1.093082</td>\n",
       "      <td>1.106940</td>\n",
       "      <td>0.360824</td>\n",
       "      <td>0.852077</td>\n",
       "      <td>1.289271</td>\n",
       "      <td>0.706476</td>\n",
       "      <td>6.126525</td>\n",
       "      <td>3.222430</td>\n",
       "    </tr>\n",
       "    <tr>\n",
       "      <th>min</th>\n",
       "      <td>18.000000</td>\n",
       "      <td>1009.000000</td>\n",
       "      <td>1.000000</td>\n",
       "      <td>3027.000000</td>\n",
       "      <td>1.000000</td>\n",
       "      <td>1.000000</td>\n",
       "      <td>1.0</td>\n",
       "      <td>1.000000</td>\n",
       "      <td>1.000000</td>\n",
       "      <td>1.000000</td>\n",
       "      <td>3.000000</td>\n",
       "      <td>0.000000</td>\n",
       "      <td>0.000000</td>\n",
       "      <td>1.000000</td>\n",
       "      <td>0.000000</td>\n",
       "      <td>0.000000</td>\n",
       "    </tr>\n",
       "    <tr>\n",
       "      <th>25%</th>\n",
       "      <td>30.000000</td>\n",
       "      <td>2911.000000</td>\n",
       "      <td>2.000000</td>\n",
       "      <td>9333.750000</td>\n",
       "      <td>2.000000</td>\n",
       "      <td>2.000000</td>\n",
       "      <td>1.0</td>\n",
       "      <td>491.250000</td>\n",
       "      <td>2.000000</td>\n",
       "      <td>1.000000</td>\n",
       "      <td>3.000000</td>\n",
       "      <td>0.000000</td>\n",
       "      <td>2.000000</td>\n",
       "      <td>2.000000</td>\n",
       "      <td>3.000000</td>\n",
       "      <td>0.000000</td>\n",
       "    </tr>\n",
       "    <tr>\n",
       "      <th>50%</th>\n",
       "      <td>36.000000</td>\n",
       "      <td>4919.000000</td>\n",
       "      <td>3.000000</td>\n",
       "      <td>15484.500000</td>\n",
       "      <td>7.000000</td>\n",
       "      <td>3.000000</td>\n",
       "      <td>1.0</td>\n",
       "      <td>1020.500000</td>\n",
       "      <td>3.000000</td>\n",
       "      <td>2.000000</td>\n",
       "      <td>3.000000</td>\n",
       "      <td>1.000000</td>\n",
       "      <td>3.000000</td>\n",
       "      <td>3.000000</td>\n",
       "      <td>5.000000</td>\n",
       "      <td>1.000000</td>\n",
       "    </tr>\n",
       "    <tr>\n",
       "      <th>75%</th>\n",
       "      <td>43.000000</td>\n",
       "      <td>8379.000000</td>\n",
       "      <td>4.000000</td>\n",
       "      <td>26103.750000</td>\n",
       "      <td>14.000000</td>\n",
       "      <td>4.000000</td>\n",
       "      <td>1.0</td>\n",
       "      <td>1555.750000</td>\n",
       "      <td>4.000000</td>\n",
       "      <td>3.000000</td>\n",
       "      <td>3.000000</td>\n",
       "      <td>1.000000</td>\n",
       "      <td>3.000000</td>\n",
       "      <td>3.000000</td>\n",
       "      <td>9.000000</td>\n",
       "      <td>3.000000</td>\n",
       "    </tr>\n",
       "    <tr>\n",
       "      <th>max</th>\n",
       "      <td>60.000000</td>\n",
       "      <td>19999.000000</td>\n",
       "      <td>4.000000</td>\n",
       "      <td>79892.000000</td>\n",
       "      <td>29.000000</td>\n",
       "      <td>5.000000</td>\n",
       "      <td>1.0</td>\n",
       "      <td>2068.000000</td>\n",
       "      <td>4.000000</td>\n",
       "      <td>5.000000</td>\n",
       "      <td>4.000000</td>\n",
       "      <td>3.000000</td>\n",
       "      <td>6.000000</td>\n",
       "      <td>4.000000</td>\n",
       "      <td>40.000000</td>\n",
       "      <td>15.000000</td>\n",
       "    </tr>\n",
       "  </tbody>\n",
       "</table>\n",
       "</div>"
      ],
      "text/plain": [
       "               Age  MonthlyIncome  JobSatisfaction         Bonus  \\\n",
       "count  1470.000000    1470.000000      1470.000000   1470.000000   \n",
       "mean     36.923810    6502.931293         2.728571  20479.501361   \n",
       "std       9.135373    4707.956783         1.102846  15066.272964   \n",
       "min      18.000000    1009.000000         1.000000   3027.000000   \n",
       "25%      30.000000    2911.000000         2.000000   9333.750000   \n",
       "50%      36.000000    4919.000000         3.000000  15484.500000   \n",
       "75%      43.000000    8379.000000         4.000000  26103.750000   \n",
       "max      60.000000   19999.000000         4.000000  79892.000000   \n",
       "\n",
       "       DistanceFromHome    Education  EmployeeCount  EmployeeNumber  \\\n",
       "count       1470.000000  1470.000000         1470.0     1470.000000   \n",
       "mean           9.192517     2.912925            1.0     1024.865306   \n",
       "std            8.106864     1.024165            0.0      602.024335   \n",
       "min            1.000000     1.000000            1.0        1.000000   \n",
       "25%            2.000000     2.000000            1.0      491.250000   \n",
       "50%            7.000000     3.000000            1.0     1020.500000   \n",
       "75%           14.000000     4.000000            1.0     1555.750000   \n",
       "max           29.000000     5.000000            1.0     2068.000000   \n",
       "\n",
       "       EnvironmentSatisfaction     JobLevel  PerformanceRating  \\\n",
       "count              1470.000000  1470.000000        1470.000000   \n",
       "mean                  2.721769     2.063946           3.153741   \n",
       "std                   1.093082     1.106940           0.360824   \n",
       "min                   1.000000     1.000000           3.000000   \n",
       "25%                   2.000000     1.000000           3.000000   \n",
       "50%                   3.000000     2.000000           3.000000   \n",
       "75%                   4.000000     3.000000           3.000000   \n",
       "max                   4.000000     5.000000           4.000000   \n",
       "\n",
       "       StockOptionLevel  TrainingTimesLastYear  WorkLifeBalance  \\\n",
       "count       1470.000000            1470.000000      1470.000000   \n",
       "mean           0.793878               2.799320         2.761224   \n",
       "std            0.852077               1.289271         0.706476   \n",
       "min            0.000000               0.000000         1.000000   \n",
       "25%            0.000000               2.000000         2.000000   \n",
       "50%            1.000000               3.000000         3.000000   \n",
       "75%            1.000000               3.000000         3.000000   \n",
       "max            3.000000               6.000000         4.000000   \n",
       "\n",
       "       YearsAtCompany  YearsSinceLastPromotion  \n",
       "count     1470.000000              1470.000000  \n",
       "mean         7.008163                 2.187755  \n",
       "std          6.126525                 3.222430  \n",
       "min          0.000000                 0.000000  \n",
       "25%          3.000000                 0.000000  \n",
       "50%          5.000000                 1.000000  \n",
       "75%          9.000000                 3.000000  \n",
       "max         40.000000                15.000000  "
      ]
     },
     "execution_count": 9,
     "metadata": {},
     "output_type": "execute_result"
    }
   ],
   "source": [
    "ds.describe()"
   ]
  },
  {
   "cell_type": "code",
   "execution_count": 31,
   "id": "68bddb5e",
   "metadata": {},
   "outputs": [],
   "source": [
    "#minimum = 1009, maximum = 19999"
   ]
  },
  {
   "cell_type": "code",
   "execution_count": 10,
   "id": "d342af60",
   "metadata": {},
   "outputs": [],
   "source": [
    "#plot ‘Histogram of Monthly Income’ to observe income vs staff numbers."
   ]
  },
  {
   "cell_type": "code",
   "execution_count": 36,
   "id": "3ba870c0",
   "metadata": {},
   "outputs": [
    {
     "data": {
      "image/png": "[encoded data removed]",
      "text/plain": [
       "<Figure size 432x288 with 1 Axes>"
      ]
     },
     "metadata": {
      "needs_background": "light"
     },
     "output_type": "display_data"
    }
   ],
   "source": [
    "#plot histogram\n",
    "\n",
    "plt.hist(ds['MonthlyIncome'])\n",
    "plt.grid()\n",
    "plt.title('Histogram of Monthly Income')\n",
    "plt.xlabel('Monthly Income')\n",
    "plt.ylabel('Staff Numbers')\n",
    "plt.show()"
   ]
  },
  {
   "cell_type": "code",
   "execution_count": 11,
   "id": "1e33cd10",
   "metadata": {},
   "outputs": [],
   "source": [
    "#graphical visualization of the distribution between ‘Year At Company’ and ‘Monthly Income’ using the scatter plot"
   ]
  },
  {
   "cell_type": "code",
   "execution_count": 13,
   "id": "07ba49ad",
   "metadata": {},
   "outputs": [
    {
     "data": {
      "text/plain": [
       "Text(0, 0.5, 'Mthly Income')"
      ]
     },
     "execution_count": 13,
     "metadata": {},
     "output_type": "execute_result"
    },
    {
     "data": {
      "image/png": "[encoded data removed]",
      "text/plain": [
       "<Figure size 432x288 with 1 Axes>"
      ]
     },
     "metadata": {
      "needs_background": "light"
     },
     "output_type": "display_data"
    }
   ],
   "source": [
    "#plot scatter\n",
    "\n",
    "year_at_company = ds.iloc[:,20] #index year at company\n",
    "mthly_income = ds.iloc[:,2] #index mthly income\n",
    "plt.scatter(year_at_company,mthly_income)\n",
    "plt.title ('Year At Company and Monthly Income')\n",
    "plt.grid()\n",
    "plt.xlabel (\"Years at Company\")\n",
    "plt.ylabel (\"Mthly Income\")"
   ]
  },
  {
   "cell_type": "code",
   "execution_count": 14,
   "id": "edcf01e2",
   "metadata": {},
   "outputs": [
    {
     "data": {
      "image/png": "[encoded data removed]",
      "text/plain": [
       "<Figure size 432x288 with 1 Axes>"
      ]
     },
     "metadata": {
      "needs_background": "light"
     },
     "output_type": "display_data"
    }
   ],
   "source": [
    "# ataupun boleh pakai cara ni...\n",
    "\n",
    "plt.scatter(ds['YearsAtCompany'], ds['MonthlyIncome'])\n",
    "plt.title('Years At Company vs Monthly Income')\n",
    "plt.grid()\n",
    "plt.xlabel(\"Years At Company\")\n",
    "plt.ylabel(\"Monthly Income\")\n",
    "plt.show()"
   ]
  },
  {
   "cell_type": "code",
   "execution_count": 15,
   "id": "d11acee2",
   "metadata": {},
   "outputs": [],
   "source": [
    "#find the correlation between ‘YearAtCompany’ and ‘MonthlyIncome’."
   ]
  },
  {
   "cell_type": "code",
   "execution_count": 45,
   "id": "4aa9f304",
   "metadata": {},
   "outputs": [
    {
     "name": "stdout",
     "output_type": "stream",
     "text": [
      "Correlation between ‘YearAtCompany’ and ‘MonthlyIncome’:\n",
      "[[1.         0.51428483]\n",
      " [0.51428483 1.        ]]\n"
     ]
    }
   ],
   "source": [
    "corr = np.corrcoef(ds['YearsAtCompany'], ds['MonthlyIncome'])\n",
    "print('Correlation between ‘YearAtCompany’ and ‘MonthlyIncome’:')\n",
    "print(corr)"
   ]
  },
  {
   "cell_type": "code",
   "execution_count": 16,
   "id": "0ec2bfc8",
   "metadata": {},
   "outputs": [
    {
     "name": "stdout",
     "output_type": "stream",
     "text": [
      "18990\n"
     ]
    }
   ],
   "source": [
    "#range of monthly income at Company A\n",
    "\n",
    "mthly_income_max = max(ds['MonthlyIncome'])\n",
    "mthly_income_min = min(ds['MonthlyIncome'])\n",
    "mthly_income_range = mthly_income_max - mthly_income_min\n",
    "print(mthly_income_range)"
   ]
  },
  {
   "cell_type": "code",
   "execution_count": 17,
   "id": "520ff042",
   "metadata": {},
   "outputs": [
    {
     "name": "stdout",
     "output_type": "stream",
     "text": [
      "income_median:  4919.0\n",
      "income_mean:  6502.93\n",
      "income_frequent:  2342\n",
      "Most and Least Frequent income value at company A:\n"
     ]
    },
    {
     "data": {
      "text/plain": [
       "2342     4\n",
       "6142     3\n",
       "2610     3\n",
       "2559     3\n",
       "6347     3\n",
       "        ..\n",
       "4103     1\n",
       "2705     1\n",
       "6796     1\n",
       "19717    1\n",
       "10239    1\n",
       "Name: MonthlyIncome, Length: 1349, dtype: int64"
      ]
     },
     "execution_count": 17,
     "metadata": {},
     "output_type": "execute_result"
    }
   ],
   "source": [
    "#most and Least Frequent monthly income values at Company A\n",
    "\n",
    "from statistics import mode, median, mean # import library dulu\n",
    "\n",
    "income_median = median(ds['MonthlyIncome'])\n",
    "print('income_median: ', income_median)\n",
    "\n",
    "income_mean = mean(ds['MonthlyIncome'])\n",
    "print('income_mean: ', round(income_mean,2))\n",
    "\n",
    "income_frequent = mode(ds['MonthlyIncome'])\n",
    "print('income_frequent: ', income_frequent)\n",
    "\n",
    "print('Most and Least Frequent income value at company A:')\n",
    "ds['MonthlyIncome'].value_counts()"
   ]
  },
  {
   "cell_type": "code",
   "execution_count": 69,
   "id": "bf8a5bcf",
   "metadata": {},
   "outputs": [],
   "source": [
    "#observation on the distribution of monthly income values\n",
    "\n",
    "'''\n",
    "Observation\n",
    "1. Histogram not in normal distribution, skewed to the right.\n",
    "2. The distribution of monthly income values is positively skewed. We can see that the monthly income values are \n",
    "   mostly clustered around the left tail of the distribution while the right tail of the distribution is longer.\n",
    "   (mode=2342, median=4919.0, mean=6502.93)\n",
    "\n",
    "Correlation between monthly income and employees' individual years at company is only 0.51428483, which is quite low \n",
    "(positive correlation).\n",
    "\n",
    "'''"
   ]
  },
  {
   "cell_type": "code",
   "execution_count": null,
   "id": "23791865",
   "metadata": {},
   "outputs": [],
   "source": [
    "#Classification using Naïve Bayes for: ‘Age’, ‘BusinessTravel’, ‘MonthlyIncome’ and ‘JobSatisfaction’ to predict ‘Attrition’."
   ]
  },
  {
   "cell_type": "code",
   "execution_count": 18,
   "id": "9bcc5ce4",
   "metadata": {},
   "outputs": [],
   "source": [
    "#import library\n",
    "\n",
    "import numpy as np\n",
    "import pandas as pd\n",
    "import matplotlib.pyplot as plt"
   ]
  },
  {
   "cell_type": "code",
   "execution_count": 20,
   "id": "ee0ce32e",
   "metadata": {},
   "outputs": [],
   "source": [
    "#import data\n",
    "\n",
    "ds = pd.read_csv (r'D:\\EDA\\Employees Attrition Data.csv')"
   ]
  },
  {
   "cell_type": "code",
   "execution_count": 21,
   "id": "c1ace815",
   "metadata": {},
   "outputs": [
    {
     "data": {
      "text/html": [
       "<div>\n",
       "<style scoped>\n",
       "    .dataframe tbody tr th:only-of-type {\n",
       "        vertical-align: middle;\n",
       "    }\n",
       "\n",
       "    .dataframe tbody tr th {\n",
       "        vertical-align: top;\n",
       "    }\n",
       "\n",
       "    .dataframe thead th {\n",
       "        text-align: right;\n",
       "    }\n",
       "</style>\n",
       "<table border=\"1\" class=\"dataframe\">\n",
       "  <thead>\n",
       "    <tr style=\"text-align: right;\">\n",
       "      <th></th>\n",
       "      <th>Age</th>\n",
       "      <th>BusinessTravel</th>\n",
       "      <th>MonthlyIncome</th>\n",
       "      <th>JobSatisfaction</th>\n",
       "      <th>Bonus</th>\n",
       "      <th>Department</th>\n",
       "      <th>DistanceFromHome</th>\n",
       "      <th>Education</th>\n",
       "      <th>EducationField</th>\n",
       "      <th>EmployeeCount</th>\n",
       "      <th>EmployeeNumber</th>\n",
       "      <th>EnvironmentSatisfaction</th>\n",
       "      <th>Gender</th>\n",
       "      <th>JobLevel</th>\n",
       "      <th>JobRole</th>\n",
       "      <th>MaritalStatus</th>\n",
       "      <th>PerformanceRating</th>\n",
       "      <th>StockOptionLevel</th>\n",
       "      <th>TrainingTimesLastYear</th>\n",
       "      <th>WorkLifeBalance</th>\n",
       "      <th>YearsAtCompany</th>\n",
       "      <th>YearsSinceLastPromotion</th>\n",
       "      <th>OverTime</th>\n",
       "      <th>Attrition</th>\n",
       "    </tr>\n",
       "  </thead>\n",
       "  <tbody>\n",
       "    <tr>\n",
       "      <th>0</th>\n",
       "      <td>41</td>\n",
       "      <td>Travel_Rarely</td>\n",
       "      <td>5993</td>\n",
       "      <td>4</td>\n",
       "      <td>17979</td>\n",
       "      <td>Sales</td>\n",
       "      <td>1</td>\n",
       "      <td>2</td>\n",
       "      <td>Life Sciences</td>\n",
       "      <td>1</td>\n",
       "      <td>1</td>\n",
       "      <td>2</td>\n",
       "      <td>Female</td>\n",
       "      <td>2</td>\n",
       "      <td>Sales Executive</td>\n",
       "      <td>Single</td>\n",
       "      <td>3</td>\n",
       "      <td>0</td>\n",
       "      <td>0</td>\n",
       "      <td>1</td>\n",
       "      <td>6</td>\n",
       "      <td>0</td>\n",
       "      <td>Yes</td>\n",
       "      <td>Yes</td>\n",
       "    </tr>\n",
       "    <tr>\n",
       "      <th>1</th>\n",
       "      <td>49</td>\n",
       "      <td>Travel_Frequently</td>\n",
       "      <td>5130</td>\n",
       "      <td>2</td>\n",
       "      <td>20520</td>\n",
       "      <td>Research &amp; Development</td>\n",
       "      <td>8</td>\n",
       "      <td>1</td>\n",
       "      <td>Life Sciences</td>\n",
       "      <td>1</td>\n",
       "      <td>2</td>\n",
       "      <td>3</td>\n",
       "      <td>Male</td>\n",
       "      <td>2</td>\n",
       "      <td>Research Scientist</td>\n",
       "      <td>Married</td>\n",
       "      <td>4</td>\n",
       "      <td>1</td>\n",
       "      <td>3</td>\n",
       "      <td>3</td>\n",
       "      <td>10</td>\n",
       "      <td>1</td>\n",
       "      <td>No</td>\n",
       "      <td>No</td>\n",
       "    </tr>\n",
       "    <tr>\n",
       "      <th>2</th>\n",
       "      <td>37</td>\n",
       "      <td>Travel_Rarely</td>\n",
       "      <td>2090</td>\n",
       "      <td>3</td>\n",
       "      <td>6270</td>\n",
       "      <td>Research &amp; Development</td>\n",
       "      <td>2</td>\n",
       "      <td>2</td>\n",
       "      <td>Other</td>\n",
       "      <td>1</td>\n",
       "      <td>4</td>\n",
       "      <td>4</td>\n",
       "      <td>Male</td>\n",
       "      <td>1</td>\n",
       "      <td>Laboratory Technician</td>\n",
       "      <td>Single</td>\n",
       "      <td>3</td>\n",
       "      <td>0</td>\n",
       "      <td>3</td>\n",
       "      <td>3</td>\n",
       "      <td>0</td>\n",
       "      <td>0</td>\n",
       "      <td>Yes</td>\n",
       "      <td>Yes</td>\n",
       "    </tr>\n",
       "    <tr>\n",
       "      <th>3</th>\n",
       "      <td>33</td>\n",
       "      <td>Travel_Frequently</td>\n",
       "      <td>2909</td>\n",
       "      <td>3</td>\n",
       "      <td>8727</td>\n",
       "      <td>Research &amp; Development</td>\n",
       "      <td>3</td>\n",
       "      <td>4</td>\n",
       "      <td>Life Sciences</td>\n",
       "      <td>1</td>\n",
       "      <td>5</td>\n",
       "      <td>4</td>\n",
       "      <td>Female</td>\n",
       "      <td>1</td>\n",
       "      <td>Research Scientist</td>\n",
       "      <td>Married</td>\n",
       "      <td>3</td>\n",
       "      <td>0</td>\n",
       "      <td>3</td>\n",
       "      <td>3</td>\n",
       "      <td>8</td>\n",
       "      <td>3</td>\n",
       "      <td>Yes</td>\n",
       "      <td>No</td>\n",
       "    </tr>\n",
       "    <tr>\n",
       "      <th>4</th>\n",
       "      <td>27</td>\n",
       "      <td>Travel_Rarely</td>\n",
       "      <td>3468</td>\n",
       "      <td>2</td>\n",
       "      <td>10404</td>\n",
       "      <td>Research &amp; Development</td>\n",
       "      <td>2</td>\n",
       "      <td>1</td>\n",
       "      <td>Medical</td>\n",
       "      <td>1</td>\n",
       "      <td>7</td>\n",
       "      <td>1</td>\n",
       "      <td>Male</td>\n",
       "      <td>1</td>\n",
       "      <td>Laboratory Technician</td>\n",
       "      <td>Married</td>\n",
       "      <td>3</td>\n",
       "      <td>1</td>\n",
       "      <td>3</td>\n",
       "      <td>3</td>\n",
       "      <td>2</td>\n",
       "      <td>2</td>\n",
       "      <td>No</td>\n",
       "      <td>No</td>\n",
       "    </tr>\n",
       "  </tbody>\n",
       "</table>\n",
       "</div>"
      ],
      "text/plain": [
       "   Age     BusinessTravel  MonthlyIncome  JobSatisfaction  Bonus  \\\n",
       "0   41      Travel_Rarely           5993                4  17979   \n",
       "1   49  Travel_Frequently           5130                2  20520   \n",
       "2   37      Travel_Rarely           2090                3   6270   \n",
       "3   33  Travel_Frequently           2909                3   8727   \n",
       "4   27      Travel_Rarely           3468                2  10404   \n",
       "\n",
       "               Department  DistanceFromHome  Education EducationField  \\\n",
       "0                   Sales                 1          2  Life Sciences   \n",
       "1  Research & Development                 8          1  Life Sciences   \n",
       "2  Research & Development                 2          2          Other   \n",
       "3  Research & Development                 3          4  Life Sciences   \n",
       "4  Research & Development                 2          1        Medical   \n",
       "\n",
       "   EmployeeCount  EmployeeNumber  EnvironmentSatisfaction  Gender  JobLevel  \\\n",
       "0              1               1                        2  Female         2   \n",
       "1              1               2                        3    Male         2   \n",
       "2              1               4                        4    Male         1   \n",
       "3              1               5                        4  Female         1   \n",
       "4              1               7                        1    Male         1   \n",
       "\n",
       "                 JobRole MaritalStatus  PerformanceRating  StockOptionLevel  \\\n",
       "0        Sales Executive        Single                  3                 0   \n",
       "1     Research Scientist       Married                  4                 1   \n",
       "2  Laboratory Technician        Single                  3                 0   \n",
       "3     Research Scientist       Married                  3                 0   \n",
       "4  Laboratory Technician       Married                  3                 1   \n",
       "\n",
       "   TrainingTimesLastYear  WorkLifeBalance  YearsAtCompany  \\\n",
       "0                      0                1               6   \n",
       "1                      3                3              10   \n",
       "2                      3                3               0   \n",
       "3                      3                3               8   \n",
       "4                      3                3               2   \n",
       "\n",
       "   YearsSinceLastPromotion OverTime Attrition  \n",
       "0                        0      Yes       Yes  \n",
       "1                        1       No        No  \n",
       "2                        0      Yes       Yes  \n",
       "3                        3      Yes        No  \n",
       "4                        2       No        No  "
      ]
     },
     "execution_count": 21,
     "metadata": {},
     "output_type": "execute_result"
    }
   ],
   "source": [
    "#3 Display the full row to view all attributes\n",
    "\n",
    "pd.set_option('display.max_columns',500)\n",
    "ds.head()"
   ]
  },
  {
   "cell_type": "code",
   "execution_count": 18,
   "id": "67e06cf3",
   "metadata": {},
   "outputs": [
    {
     "name": "stdout",
     "output_type": "stream",
     "text": [
      "<class 'pandas.core.frame.DataFrame'>\n",
      "RangeIndex: 1470 entries, 0 to 1469\n",
      "Data columns (total 24 columns):\n",
      " #   Column                   Non-Null Count  Dtype \n",
      "---  ------                   --------------  ----- \n",
      " 0   Age                      1470 non-null   int64 \n",
      " 1   BusinessTravel           1470 non-null   object\n",
      " 2   MonthlyIncome            1470 non-null   int64 \n",
      " 3   JobSatisfaction          1470 non-null   int64 \n",
      " 4   Bonus                    1470 non-null   int64 \n",
      " 5   Department               1470 non-null   object\n",
      " 6   DistanceFromHome         1470 non-null   int64 \n",
      " 7   Education                1470 non-null   int64 \n",
      " 8   EducationField           1470 non-null   object\n",
      " 9   EmployeeCount            1470 non-null   int64 \n",
      " 10  EmployeeNumber           1470 non-null   int64 \n",
      " 11  EnvironmentSatisfaction  1470 non-null   int64 \n",
      " 12  Gender                   1470 non-null   object\n",
      " 13  JobLevel                 1470 non-null   int64 \n",
      " 14  JobRole                  1470 non-null   object\n",
      " 15  MaritalStatus            1470 non-null   object\n",
      " 16  PerformanceRating        1470 non-null   int64 \n",
      " 17  StockOptionLevel         1470 non-null   int64 \n",
      " 18  TrainingTimesLastYear    1470 non-null   int64 \n",
      " 19  WorkLifeBalance          1470 non-null   int64 \n",
      " 20  YearsAtCompany           1470 non-null   int64 \n",
      " 21  YearsSinceLastPromotion  1470 non-null   int64 \n",
      " 22  OverTime                 1470 non-null   object\n",
      " 23  Attrition                1470 non-null   object\n",
      "dtypes: int64(16), object(8)\n",
      "memory usage: 275.8+ KB\n"
     ]
    }
   ],
   "source": [
    "ds.info()"
   ]
  },
  {
   "cell_type": "code",
   "execution_count": 22,
   "id": "23e2576e",
   "metadata": {},
   "outputs": [],
   "source": [
    "#assign attributes to x and y\n",
    "\n",
    "x = ds.iloc[:, 0:4].values # Age, BusinessTravel, MonthlyIncome, JobSatisfiction\n",
    "#x = ds.iloc[:, [0,1,2,3]].values # Age, BusinessTravel, MonthlyIncome, JobSatisfiction\n",
    "y = ds.iloc[:,-1].values # Attrition"
   ]
  },
  {
   "cell_type": "code",
   "execution_count": 23,
   "id": "2c071018",
   "metadata": {},
   "outputs": [
    {
     "name": "stdout",
     "output_type": "stream",
     "text": [
      "['Non-Travel' 'Travel_Frequently' 'Travel_Rarely']\n"
     ]
    }
   ],
   "source": [
    "#check on the data\n",
    "\n",
    "d = ds['BusinessTravel'].unique()\n",
    "d.sort()\n",
    "print(d)"
   ]
  },
  {
   "cell_type": "code",
   "execution_count": 24,
   "id": "13953234",
   "metadata": {},
   "outputs": [
    {
     "name": "stdout",
     "output_type": "stream",
     "text": [
      "[[41 2 5993 4]\n",
      " [49 1 5130 2]\n",
      " [37 2 2090 3]\n",
      " ...\n",
      " [27 2 6142 2]\n",
      " [49 1 5390 2]\n",
      " [34 2 4404 3]]\n",
      "[1 0 1 ... 0 0 0]\n"
     ]
    }
   ],
   "source": [
    "#encode any categorical data. \n",
    "\n",
    "from sklearn.preprocessing import LabelEncoder\n",
    "labelencoder_x = LabelEncoder()\n",
    "x[:, 1] = labelencoder_x.fit_transform (x[:,1]) # BusinessTravel (Non-Travel/Travel_Frequently/Travel_Rarely)\n",
    "print(x)\n",
    "\n",
    "labelencoder_y = LabelEncoder()\n",
    "y = labelencoder_y.fit_transform(y) # Attrition (yes/no)\n",
    "print(y)"
   ]
  },
  {
   "cell_type": "code",
   "execution_count": 25,
   "id": "0b7c6ea2",
   "metadata": {},
   "outputs": [],
   "source": [
    "#split your data into Training and Test sets\n",
    "\n",
    "from sklearn.model_selection import train_test_split\n",
    "\n",
    "x_train,x_test,y_train,y_test = train_test_split(x, y, test_size=0.2, random_state=0)"
   ]
  },
  {
   "cell_type": "code",
   "execution_count": 26,
   "id": "0ad1372f",
   "metadata": {},
   "outputs": [],
   "source": [
    "#conduct feature scaling to normalize your training and test sets (to avoid one value to be dominant to others)\n",
    "\n",
    "from sklearn.preprocessing import StandardScaler\n",
    "sc_x = StandardScaler()\n",
    "x_train = sc_x.fit_transform(x_train)\n",
    "x_test = sc_x.transform(x_test)"
   ]
  },
  {
   "cell_type": "code",
   "execution_count": 27,
   "id": "de462052",
   "metadata": {},
   "outputs": [
    {
     "data": {
      "text/plain": [
       "GaussianNB()"
      ]
     },
     "execution_count": 27,
     "metadata": {},
     "output_type": "execute_result"
    }
   ],
   "source": [
    "#fit the Naïve Bayes Classifier to the Training set \n",
    "\n",
    "from sklearn.naive_bayes import GaussianNB\n",
    "classifier=GaussianNB()\n",
    "classifier.fit(x_train, y_train)"
   ]
  },
  {
   "cell_type": "code",
   "execution_count": 28,
   "id": "73c7a05b",
   "metadata": {},
   "outputs": [
    {
     "name": "stdout",
     "output_type": "stream",
     "text": [
      "[0 0 1 0 1 0 1 0 0 1 0 1 0 1 0 0 0 1 0 0 0 0 0 0 0 0 0 0 0 0 0 0 0 1 0 0 0\n",
      " 0 1 0 0 0 0 0 0 1 0 0 1 1 0 1 0 0 1 0 0 1 0 0 0 0 0 0 0 0 1 1 0 1 0 0 0 0\n",
      " 0 0 0 0 1 0 0 0 0 0 0 0 0 0 0 0 0 0 0 0 0 0 0 0 0 0 1 1 0 0 0 0 0 0 0 0 0\n",
      " 0 0 0 0 0 0 0 0 0 0 0 0 1 0 0 0 0 0 0 0 1 1 0 0 0 1 0 0 0 0 0 0 0 0 1 0 0\n",
      " 1 0 0 0 0 1 0 0 0 0 0 0 1 0 0 1 0 0 0 0 0 0 0 1 0 0 1 0 0 0 0 0 0 0 0 1 0\n",
      " 0 0 0 1 0 0 1 0 0 0 0 0 0 1 0 0 0 1 0 0 0 0 0 0 0 0 0 0 1 1 0 0 0 0 0 0 0\n",
      " 0 0 0 0 0 0 1 0 0 0 0 0 0 0 0 0 0 0 1 0 0 0 0 0 0 0 0 0 0 0 1 0 0 0 0 1 0\n",
      " 1 0 0 0 0 0 0 0 1 1 0 0 0 0 0 0 0 0 0 0 0 1 0 0 0 0 0 0 1 0 0 0 1 0 0]\n",
      "[0 0 0 0 0 0 0 0 0 0 0 0 0 0 0 0 0 0 0 0 1 0 0 0 0 0 0 0 1 0 0 0 0 0 0 0 0\n",
      " 0 0 0 0 0 0 0 0 0 0 0 0 0 0 0 0 0 0 0 0 0 0 0 0 0 0 0 0 0 0 0 0 0 0 0 0 0\n",
      " 0 0 0 0 0 0 0 0 0 0 0 0 0 0 0 0 0 0 0 0 0 0 0 0 0 0 0 0 0 0 0 0 0 0 0 0 0\n",
      " 0 0 0 0 0 0 0 0 0 0 0 0 0 0 0 0 0 0 0 0 0 0 0 0 0 0 0 0 0 0 0 0 0 0 0 0 0\n",
      " 0 0 0 0 0 0 0 0 0 0 0 0 0 0 0 0 0 0 0 0 0 0 0 0 0 0 0 1 0 0 0 0 0 0 0 0 0\n",
      " 0 0 0 0 0 0 1 0 0 0 0 0 0 0 0 0 0 0 0 0 0 0 0 0 0 0 0 0 0 0 0 0 0 0 0 0 0\n",
      " 0 0 0 0 0 0 0 0 0 0 0 0 0 0 0 0 0 0 0 0 0 0 0 0 0 0 0 0 0 0 0 0 0 0 0 0 0\n",
      " 0 0 0 0 0 0 0 0 0 0 0 0 0 0 0 0 0 0 0 0 0 0 0 1 0 0 0 0 0 0 0 0 0 0 0]\n"
     ]
    }
   ],
   "source": [
    "#Predict the results for the Test set\n",
    "y_pred = classifier.predict(x_test)\n",
    "print(y_test)\n",
    "print(y_pred)"
   ]
  },
  {
   "cell_type": "code",
   "execution_count": 29,
   "id": "c704b6d6",
   "metadata": {},
   "outputs": [
    {
     "data": {
      "text/plain": [
       "array([[241,   4],\n",
       "       [ 48,   1]], dtype=int64)"
      ]
     },
     "execution_count": 29,
     "metadata": {},
     "output_type": "execute_result"
    }
   ],
   "source": [
    "#Calculate the confusion matrix for your results\n",
    "\n",
    "from sklearn.metrics import confusion_matrix\n",
    "cm = confusion_matrix(y_test,y_pred)\n",
    "cm"
   ]
  },
  {
   "cell_type": "code",
   "execution_count": 30,
   "id": "711d5073",
   "metadata": {},
   "outputs": [
    {
     "name": "stdout",
     "output_type": "stream",
     "text": [
      "Accuracy Result: 0.8231292517006803\n"
     ]
    }
   ],
   "source": [
    "#Calculate the accuracy of your prediction from the values obtained in the confusion matrix\n",
    "accuracy = (241+1)/(241+1+4+48)\n",
    "print('Accuracy Result:', accuracy)"
   ]
  },
  {
   "cell_type": "code",
   "execution_count": 31,
   "id": "3085704b",
   "metadata": {},
   "outputs": [
    {
     "data": {
      "text/plain": [
       "'\\nThe accuracy of the prediction is 82.3%, which can be considered as a fairly high model in doing the prediction.\\nFrom the result, we can say that Age, BusinessTravel, MonthlyIncome and JobSatisfiction are good features to predict the \\nAttrition.\\n'"
      ]
     },
     "execution_count": 31,
     "metadata": {},
     "output_type": "execute_result"
    }
   ],
   "source": [
    "'''\n",
    "The accuracy of the prediction is 82.3%, which can be considered as a fairly high model in doing the prediction.\n",
    "From the result, we can say that Age, BusinessTravel, MonthlyIncome and JobSatisfiction are good features to predict the \n",
    "Attrition.\n",
    "'''"
   ]
  },
  {
   "cell_type": "code",
   "execution_count": 37,
   "id": "b996139f",
   "metadata": {},
   "outputs": [],
   "source": [
    "#Use Multiple Linear Regression to Predict ‘Bonus’ based on ‘Monthly Income’ and ‘Age’"
   ]
  },
  {
   "cell_type": "code",
   "execution_count": 32,
   "id": "8522def8",
   "metadata": {},
   "outputs": [],
   "source": [
    "#import libraries\n",
    "\n",
    "import numpy as np\n",
    "import pandas as pd\n",
    "import matplotlib.pyplot as plt"
   ]
  },
  {
   "cell_type": "code",
   "execution_count": 33,
   "id": "f1c519b3",
   "metadata": {},
   "outputs": [
    {
     "data": {
      "text/html": [
       "<div>\n",
       "<style scoped>\n",
       "    .dataframe tbody tr th:only-of-type {\n",
       "        vertical-align: middle;\n",
       "    }\n",
       "\n",
       "    .dataframe tbody tr th {\n",
       "        vertical-align: top;\n",
       "    }\n",
       "\n",
       "    .dataframe thead th {\n",
       "        text-align: right;\n",
       "    }\n",
       "</style>\n",
       "<table border=\"1\" class=\"dataframe\">\n",
       "  <thead>\n",
       "    <tr style=\"text-align: right;\">\n",
       "      <th></th>\n",
       "      <th>Age</th>\n",
       "      <th>BusinessTravel</th>\n",
       "      <th>MonthlyIncome</th>\n",
       "      <th>JobSatisfaction</th>\n",
       "      <th>Bonus</th>\n",
       "      <th>Department</th>\n",
       "      <th>DistanceFromHome</th>\n",
       "      <th>Education</th>\n",
       "      <th>EducationField</th>\n",
       "      <th>EmployeeCount</th>\n",
       "      <th>EmployeeNumber</th>\n",
       "      <th>EnvironmentSatisfaction</th>\n",
       "      <th>Gender</th>\n",
       "      <th>JobLevel</th>\n",
       "      <th>JobRole</th>\n",
       "      <th>MaritalStatus</th>\n",
       "      <th>PerformanceRating</th>\n",
       "      <th>StockOptionLevel</th>\n",
       "      <th>TrainingTimesLastYear</th>\n",
       "      <th>WorkLifeBalance</th>\n",
       "      <th>YearsAtCompany</th>\n",
       "      <th>YearsSinceLastPromotion</th>\n",
       "      <th>OverTime</th>\n",
       "      <th>Attrition</th>\n",
       "    </tr>\n",
       "  </thead>\n",
       "  <tbody>\n",
       "    <tr>\n",
       "      <th>0</th>\n",
       "      <td>41</td>\n",
       "      <td>Travel_Rarely</td>\n",
       "      <td>5993</td>\n",
       "      <td>4</td>\n",
       "      <td>17979</td>\n",
       "      <td>Sales</td>\n",
       "      <td>1</td>\n",
       "      <td>2</td>\n",
       "      <td>Life Sciences</td>\n",
       "      <td>1</td>\n",
       "      <td>1</td>\n",
       "      <td>2</td>\n",
       "      <td>Female</td>\n",
       "      <td>2</td>\n",
       "      <td>Sales Executive</td>\n",
       "      <td>Single</td>\n",
       "      <td>3</td>\n",
       "      <td>0</td>\n",
       "      <td>0</td>\n",
       "      <td>1</td>\n",
       "      <td>6</td>\n",
       "      <td>0</td>\n",
       "      <td>Yes</td>\n",
       "      <td>Yes</td>\n",
       "    </tr>\n",
       "    <tr>\n",
       "      <th>1</th>\n",
       "      <td>49</td>\n",
       "      <td>Travel_Frequently</td>\n",
       "      <td>5130</td>\n",
       "      <td>2</td>\n",
       "      <td>20520</td>\n",
       "      <td>Research &amp; Development</td>\n",
       "      <td>8</td>\n",
       "      <td>1</td>\n",
       "      <td>Life Sciences</td>\n",
       "      <td>1</td>\n",
       "      <td>2</td>\n",
       "      <td>3</td>\n",
       "      <td>Male</td>\n",
       "      <td>2</td>\n",
       "      <td>Research Scientist</td>\n",
       "      <td>Married</td>\n",
       "      <td>4</td>\n",
       "      <td>1</td>\n",
       "      <td>3</td>\n",
       "      <td>3</td>\n",
       "      <td>10</td>\n",
       "      <td>1</td>\n",
       "      <td>No</td>\n",
       "      <td>No</td>\n",
       "    </tr>\n",
       "    <tr>\n",
       "      <th>2</th>\n",
       "      <td>37</td>\n",
       "      <td>Travel_Rarely</td>\n",
       "      <td>2090</td>\n",
       "      <td>3</td>\n",
       "      <td>6270</td>\n",
       "      <td>Research &amp; Development</td>\n",
       "      <td>2</td>\n",
       "      <td>2</td>\n",
       "      <td>Other</td>\n",
       "      <td>1</td>\n",
       "      <td>4</td>\n",
       "      <td>4</td>\n",
       "      <td>Male</td>\n",
       "      <td>1</td>\n",
       "      <td>Laboratory Technician</td>\n",
       "      <td>Single</td>\n",
       "      <td>3</td>\n",
       "      <td>0</td>\n",
       "      <td>3</td>\n",
       "      <td>3</td>\n",
       "      <td>0</td>\n",
       "      <td>0</td>\n",
       "      <td>Yes</td>\n",
       "      <td>Yes</td>\n",
       "    </tr>\n",
       "    <tr>\n",
       "      <th>3</th>\n",
       "      <td>33</td>\n",
       "      <td>Travel_Frequently</td>\n",
       "      <td>2909</td>\n",
       "      <td>3</td>\n",
       "      <td>8727</td>\n",
       "      <td>Research &amp; Development</td>\n",
       "      <td>3</td>\n",
       "      <td>4</td>\n",
       "      <td>Life Sciences</td>\n",
       "      <td>1</td>\n",
       "      <td>5</td>\n",
       "      <td>4</td>\n",
       "      <td>Female</td>\n",
       "      <td>1</td>\n",
       "      <td>Research Scientist</td>\n",
       "      <td>Married</td>\n",
       "      <td>3</td>\n",
       "      <td>0</td>\n",
       "      <td>3</td>\n",
       "      <td>3</td>\n",
       "      <td>8</td>\n",
       "      <td>3</td>\n",
       "      <td>Yes</td>\n",
       "      <td>No</td>\n",
       "    </tr>\n",
       "    <tr>\n",
       "      <th>4</th>\n",
       "      <td>27</td>\n",
       "      <td>Travel_Rarely</td>\n",
       "      <td>3468</td>\n",
       "      <td>2</td>\n",
       "      <td>10404</td>\n",
       "      <td>Research &amp; Development</td>\n",
       "      <td>2</td>\n",
       "      <td>1</td>\n",
       "      <td>Medical</td>\n",
       "      <td>1</td>\n",
       "      <td>7</td>\n",
       "      <td>1</td>\n",
       "      <td>Male</td>\n",
       "      <td>1</td>\n",
       "      <td>Laboratory Technician</td>\n",
       "      <td>Married</td>\n",
       "      <td>3</td>\n",
       "      <td>1</td>\n",
       "      <td>3</td>\n",
       "      <td>3</td>\n",
       "      <td>2</td>\n",
       "      <td>2</td>\n",
       "      <td>No</td>\n",
       "      <td>No</td>\n",
       "    </tr>\n",
       "  </tbody>\n",
       "</table>\n",
       "</div>"
      ],
      "text/plain": [
       "   Age     BusinessTravel  MonthlyIncome  JobSatisfaction  Bonus  \\\n",
       "0   41      Travel_Rarely           5993                4  17979   \n",
       "1   49  Travel_Frequently           5130                2  20520   \n",
       "2   37      Travel_Rarely           2090                3   6270   \n",
       "3   33  Travel_Frequently           2909                3   8727   \n",
       "4   27      Travel_Rarely           3468                2  10404   \n",
       "\n",
       "               Department  DistanceFromHome  Education EducationField  \\\n",
       "0                   Sales                 1          2  Life Sciences   \n",
       "1  Research & Development                 8          1  Life Sciences   \n",
       "2  Research & Development                 2          2          Other   \n",
       "3  Research & Development                 3          4  Life Sciences   \n",
       "4  Research & Development                 2          1        Medical   \n",
       "\n",
       "   EmployeeCount  EmployeeNumber  EnvironmentSatisfaction  Gender  JobLevel  \\\n",
       "0              1               1                        2  Female         2   \n",
       "1              1               2                        3    Male         2   \n",
       "2              1               4                        4    Male         1   \n",
       "3              1               5                        4  Female         1   \n",
       "4              1               7                        1    Male         1   \n",
       "\n",
       "                 JobRole MaritalStatus  PerformanceRating  StockOptionLevel  \\\n",
       "0        Sales Executive        Single                  3                 0   \n",
       "1     Research Scientist       Married                  4                 1   \n",
       "2  Laboratory Technician        Single                  3                 0   \n",
       "3     Research Scientist       Married                  3                 0   \n",
       "4  Laboratory Technician       Married                  3                 1   \n",
       "\n",
       "   TrainingTimesLastYear  WorkLifeBalance  YearsAtCompany  \\\n",
       "0                      0                1               6   \n",
       "1                      3                3              10   \n",
       "2                      3                3               0   \n",
       "3                      3                3               8   \n",
       "4                      3                3               2   \n",
       "\n",
       "   YearsSinceLastPromotion OverTime Attrition  \n",
       "0                        0      Yes       Yes  \n",
       "1                        1       No        No  \n",
       "2                        0      Yes       Yes  \n",
       "3                        3      Yes        No  \n",
       "4                        2       No        No  "
      ]
     },
     "execution_count": 33,
     "metadata": {},
     "output_type": "execute_result"
    }
   ],
   "source": [
    "#2 Import Data\n",
    "ds = pd.read_csv (r'D:\\EDA\\Employees Attrition Data.csv')\n",
    "\n",
    "# Display the full row to view all attributes\n",
    "pd.set_option('display.max_columns',500)\n",
    "ds.head()"
   ]
  },
  {
   "cell_type": "code",
   "execution_count": 39,
   "id": "fd2bb4c9",
   "metadata": {},
   "outputs": [],
   "source": [
    "#Assign attributes to x and y\n",
    "\n",
    "X = ds.iloc[:, [0,2]].values # Age, MonthlyIncome\n",
    "Y = ds.iloc[:, 4].values # Bonus"
   ]
  },
  {
   "cell_type": "code",
   "execution_count": 40,
   "id": "7da4add3",
   "metadata": {},
   "outputs": [],
   "source": [
    "#Split your data into Training and Test sets\n",
    "\n",
    "from sklearn.model_selection import train_test_split\n",
    "X_train,X_test,Y_train,Y_test = train_test_split(X, Y, test_size=0.2, random_state=0)"
   ]
  },
  {
   "cell_type": "code",
   "execution_count": 41,
   "id": "2ccb1902",
   "metadata": {},
   "outputs": [
    {
     "data": {
      "text/plain": [
       "LinearRegression()"
      ]
     },
     "execution_count": 41,
     "metadata": {},
     "output_type": "execute_result"
    }
   ],
   "source": [
    "#Fitting Multiple Linear Regression to your Training set\n",
    "\n",
    "from sklearn.linear_model import LinearRegression\n",
    "regressor = LinearRegression()\n",
    "regressor.fit(X_train, Y_train)"
   ]
  },
  {
   "cell_type": "code",
   "execution_count": 38,
   "id": "b0c76475",
   "metadata": {},
   "outputs": [
    {
     "name": "stdout",
     "output_type": "stream",
     "text": [
      "[31348.79849496 13607.21184942 14536.72764205 32437.29185694\n",
      "  7698.15618812  6587.38267666 14485.42928018 16197.59847811\n",
      " 20029.66502423 15720.49039414 42400.68591815 12330.07380527\n",
      " 27788.53083912  6995.34583257 34115.83388325  8750.24437435\n",
      " 24374.00314567 13093.04617605 22309.06958277  7554.60495913\n",
      "  8008.9593691  60859.91647565 21136.00495238 21430.91178173\n",
      " 13066.45170271 16446.99795947 10202.55448809 32607.26218335\n",
      "  7478.83771437 25574.5496687  21025.6073705  12260.74998807\n",
      " 33105.2929862  31531.4171576  20373.38684668 37442.18451457\n",
      " 37786.02559646  8323.7822386  30261.19255229 11640.5606864\n",
      " 14346.90090522 27105.34188837 41462.127583   33327.62446971\n",
      " 11802.61089523  7689.17327531 10912.63254754 16347.88777\n",
      "  5838.29681326  7219.27326554 49632.80086639  9945.64878394\n",
      " 27763.53231523 17206.66268513 11521.94835158 13619.38666115\n",
      " 16160.4251425  21436.05389518 15515.11805751 15057.92601369\n",
      " 11204.05284261 19561.59596956 14362.91651629 20082.73471148\n",
      " 41432.40084045 41236.30956521  8811.76733341 14196.07845909\n",
      "  7120.34196523  8668.80537515 27177.08944462  8572.41356009\n",
      " 13213.31409005 18159.99494698 20558.89925965 11533.59000908\n",
      "  9240.5935785  43181.50836835  8790.54997916 17887.90142134\n",
      " 58984.10111943 21376.42152094  9177.82893506  6527.86956185\n",
      " 11998.76180019 26209.09900227 58813.0679978   6646.30652075\n",
      " 21519.73774428 20567.46827766  4753.34961528 16492.44567773\n",
      " 17776.67604987  6394.00977583 34619.24180519 13246.64662631\n",
      " 11614.32047813 20145.02583041  8504.39105699  9681.29648673\n",
      " 13326.07578126 20999.01289716 45288.28385579 15614.34750641\n",
      " 12353.53600941 17324.56648979 29055.62317523  8334.00683579\n",
      " 11064.34241297  9465.99770149 17786.01322776 51591.11801704\n",
      " 21337.83112502 15938.80218914  7188.36446833  7808.67302943\n",
      " 26605.71513605 42680.99419672 60113.31398102 17097.74179327\n",
      " 10940.17406991 10958.0802658  20506.41884311  6406.47922291\n",
      " 32242.02837129 51211.46454336 34550.51077194 20439.87303004\n",
      " 31394.66010802 40168.02687874 45023.16339871  6426.92841729\n",
      "  6639.50882812 21383.80848429 22915.31274733 12901.74274919\n",
      " 18033.04859979  9042.84672409 30252.85853992 17027.29555112\n",
      " 52199.1921367   7037.72091136 30488.54688981 16118.8778533\n",
      "  7385.10815724 21223.05958956 31825.731203   60354.43907973\n",
      " 32429.43136908 15695.19372167 13676.8899317  37386.98572363\n",
      "  9464.40175203 59089.41621758 52902.47601675 16213.37908354\n",
      " 53541.8131987   7068.21581377  6428.05084224 24859.8591368\n",
      " 43208.39747705 14004.65577279  6389.63582224  8826.18699503\n",
      " 17912.31067451 20615.33973497 22265.98597384  8725.8947509\n",
      " 13028.56983695 61949.94615737 42478.57875337 16333.23310275\n",
      " 13509.1083387   7987.09311442 61330.52501557  8902.83814586\n",
      " 20686.90840207 42229.88780216  7989.45722375 60699.04832148\n",
      " 21768.30943606 17907.10893134 56078.95125098 32888.04398643\n",
      " 10021.29676926 11351.97802517 17122.21067616 12720.77966572\n",
      " 18614.9421409   6891.56705417 11914.19053178  7539.53288384\n",
      " 15355.01806321 10353.96620493  9090.42003281 14347.31480001\n",
      " 19731.98019076 33803.84864759  7931.89432348  8094.00416202\n",
      "  8823.05472583  8140.63393495 13823.27879453 25171.96363188\n",
      " 13636.93859197 21780.07035299  9232.55420149 61281.65039275\n",
      " 21770.67354539 29642.89383544 10905.65947898  7695.8517085\n",
      " 21492.37511107  9166.00838841 15634.32317627 30868.79314744\n",
      " 57171.28541231 12029.73022711 61547.83364506  4949.97404475\n",
      "  8778.49442688  7818.36447239  8842.55687119 42697.54296203\n",
      " 13178.03133926 14100.69332277 12006.38728241 12498.32892278\n",
      "  5639.4275339   8014.10148256 60466.78687614 12451.05024942\n",
      " 13059.83289923 16585.2913288  18805.24240225 20084.74455573\n",
      " 12527.34713517 15198.10996784 12785.72952934 44875.23821614\n",
      "  7459.04093366 13372.23202968 48483.61233494 19873.70046464\n",
      " 23434.79591008 35290.72946873 31043.78632786  7992.29485759\n",
      " 10997.61771074 22440.97915426  9558.78372284 21444.2090184\n",
      " 15609.85429339 53865.55935128  9477.34472363 17324.152595\n",
      " 61230.35203088  7588.5267661   8854.73168291 13227.02522152\n",
      " 19322.83498018 16914.88812498 18081.27432218 28900.90030003\n",
      " 15905.11538781  7603.95310647 19519.754045    9076.70890134\n",
      " 19302.09115044 26337.5816692  15304.13359614 18594.55257624\n",
      " 14057.07655961 20309.20514293 10684.86431522 23642.29383717\n",
      " 28490.98692958 10453.90418398 17346.90626899  8374.3124406\n",
      " 12225.40760756  6456.59553011  8862.53254105 59478.99965309\n",
      " 59824.79094951 11066.17336807 18132.57268405 19421.47164513\n",
      " 41556.15528873 24031.81764296 11425.20227145 19399.54576073\n",
      " 20623.14059311 20515.87528043]\n",
      "[29940 12960 13842 41288  9756  8332 18396 15441 19041 14889 40488 11712\n",
      " 26559  6648 32553  8304 23268 12513 21282  7101 10208 58176 20175 20412\n",
      " 12471 15684  9633 31104  7140 24360 20061 15544 31581 30024 19395 35805\n",
      " 36093  7941 28857 11064 18164 25884 39618 31827 11244  7296 10404 15618\n",
      "  7436  6879 47361 12560 26502 21816 14584 17268 15393 20388 14808 14304\n",
      " 10617 18696 13659 25588 39573 39348  8334 18032  8952  8226 34532  8175\n",
      " 12591 17304 19614 11007  8691 41178  8355 17031 56367 27196  8697  8256\n",
      " 11436 25038 56166  8264 27368 19647  4542 15711 16941  6039 44124 12594\n",
      " 11043 19230  8052  9204 12699 20019 43233 14808 15668 16446 27723  7926\n",
      " 10446  8973 16983 65748 20265 15189  6837  7365 33896 40773 57432 16299\n",
      " 10356 10431 19572  6084 30717 65164 32928 19500 29955 38424 43008  6054\n",
      "  6270 20433 21780 12243 17232  8514 28911 21620 49881  6639 29145 15378\n",
      "  9224 20184 30372 57696 30975 19996 13035 47664  8988 56472 67340 20520\n",
      " 51138  6693  6084 23754 41274 13320  6072 11180 16980 19635 21249  8322\n",
      " 12381 59220 40575 15480 12771  7602 58635  8508 19749 40374  7596 57993\n",
      " 20793 17037 71424 31344 12596 10800 16215 16148 17748  6561 11355  7194\n",
      " 14634  9840  8667 18148 25096 32217  7545  7692 11176  7716 13200 24024\n",
      " 13005 20796  8799 58551 20787 28302 13808  9720 20475  8727 14823 29472\n",
      " 54639 11445 78452  4689 11064  7428  8442 40731 12582 13350 11340 11931\n",
      "  5370  7632 57816 11832 12444 15771 17922 19164 11934 14430 12198 42825\n",
      "  7026 12768 46281 18966 22323 44976 29652  7545 10473 21429 12088 20433\n",
      " 14907 68636  8988 16458 58506  9616  8433 16800 18426 16128 17241 27612\n",
      " 15165  7140 18627  8658 18402 25128 14577 23660 13395 19317 10128 22530\n",
      " 36276  9882 16455  7977 11682  6132  8457 56841 57135 10518 17286 18537\n",
      " 39675 22932 10866 18516 19659 19548]\n"
     ]
    }
   ],
   "source": [
    "# Predict the results for the Test set \n",
    "\n",
    "Y_predict = regressor.predict(X_test)\n",
    "print(Y_predict)\n",
    "print(Y_test)"
   ]
  },
  {
   "cell_type": "code",
   "execution_count": 42,
   "id": "9279ccb6",
   "metadata": {},
   "outputs": [
    {
     "data": {
      "image/png": "[encoded data removed]",
      "text/plain": [
       "<Figure size 432x288 with 1 Axes>"
      ]
     },
     "metadata": {
      "needs_background": "light"
     },
     "output_type": "display_data"
    }
   ],
   "source": [
    "#Compare your results by plotting scatter plot of your prediction result vs the actual results\n",
    "\n",
    "plt.scatter(Y_predict, Y_test, color='purple')\n",
    "plt.title('Predict Result vs Actual Result')\n",
    "plt.xlabel(\"Predict Result\")\n",
    "plt.ylabel(\"Actual Result\")\n",
    "plt.show()"
   ]
  },
  {
   "cell_type": "code",
   "execution_count": 43,
   "id": "1e91b558",
   "metadata": {},
   "outputs": [
    {
     "name": "stdout",
     "output_type": "stream",
     "text": [
      "[[1.         0.97976766]\n",
      " [0.97976766 1.        ]]\n"
     ]
    }
   ],
   "source": [
    "# to check correlation between prediction and actual test result\n",
    "\n",
    "Corr = np.corrcoef(Y_test, Y_predict)\n",
    "print(Corr)"
   ]
  },
  {
   "cell_type": "code",
   "execution_count": 44,
   "id": "825cb036",
   "metadata": {},
   "outputs": [
    {
     "data": {
      "image/png": "[encoded data removed]",
      "text/plain": [
       "<Figure size 432x288 with 2 Axes>"
      ]
     },
     "metadata": {
      "needs_background": "light"
     },
     "output_type": "display_data"
    }
   ],
   "source": [
    "#Import seaborn to identify area\n",
    "\n",
    "import seaborn as sns\n",
    "sns.heatmap(ds.corr())\n",
    "plt.title('Heatmap correlation between all attributes')\n",
    "plt.show()"
   ]
  },
  {
   "cell_type": "code",
   "execution_count": null,
   "id": "4d66402d",
   "metadata": {},
   "outputs": [],
   "source": [
    "'''\n",
    "The correlation between prediction and actual test result is very high which is 0.97976766\n",
    "From the scatter plot graph, we can see that the actual and predicted result have positive correlation, which shows that \n",
    "the predicted result is almost accurate as it is closer to 1.0\n",
    "It shows that Multiple Linear Regression can be use to predict Bonus based on MonthlyIncome and Age.\n",
    "However from the Heatmap, JobLevel can be a good features to predict Bonus compare to Age, since JobLevel has higher \n",
    "correlation with Bonus compared to Age.\n",
    "'''"
   ]
  }
 ],
 "metadata": {
  "kernelspec": {
   "display_name": "Python 3",
   "language": "python",
   "name": "python3"
  },
  "language_info": {
   "codemirror_mode": {
    "name": "ipython",
    "version": 3
   },
   "file_extension": ".py",
   "mimetype": "text/x-python",
   "name": "python",
   "nbconvert_exporter": "python",
   "pygments_lexer": "ipython3",
   "version": "3.8.8"
  }
 },
 "nbformat": 4,
 "nbformat_minor": 5
}
